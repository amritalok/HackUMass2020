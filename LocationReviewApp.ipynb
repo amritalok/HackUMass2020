{
 "cells": [
  {
   "cell_type": "code",
   "execution_count": 5,
   "metadata": {},
   "outputs": [
    {
     "name": "stdout",
     "output_type": "stream",
     "text": [
      " * Serving Flask app \"__main__\" (lazy loading)\n",
      " * Environment: production\n",
      "   WARNING: This is a development server. Do not use it in a production deployment.\n",
      "   Use a production WSGI server instead.\n",
      " * Debug mode: off\n"
     ]
    },
    {
     "name": "stderr",
     "output_type": "stream",
     "text": [
      " * Running on http://127.0.0.1:5000/ (Press CTRL+C to quit)\n",
      "127.0.0.1 - - [20/Dec/2020 00:10:06] \"\u001b[37mGET / HTTP/1.1\u001b[0m\" 200 -\n",
      "127.0.0.1 - - [20/Dec/2020 00:11:13] \"\u001b[37mGET /search?state=TX HTTP/1.1\u001b[0m\" 200 -\n",
      "127.0.0.1 - - [20/Dec/2020 00:12:12] \"\u001b[37mGET /search HTTP/1.1\u001b[0m\" 200 -\n",
      "127.0.0.1 - - [20/Dec/2020 00:12:59] \"\u001b[37mGET /search HTTP/1.1\u001b[0m\" 200 -\n",
      "127.0.0.1 - - [20/Dec/2020 01:12:07] \"\u001b[37mGET /search?state=TX HTTP/1.1\u001b[0m\" 200 -\n"
     ]
    }
   ],
   "source": [
    "#Implement flask\n",
    "import json\n",
    "from flask import Flask, request\n",
    "import sqlite3\n",
    "import pandas as pd\n",
    "CovidVaccineApp = Flask(__name__)\n",
    "# CovidVaccineApp.debug = True\n",
    "@CovidVaccineApp.route('/')\n",
    "def status():\n",
    "    return \"Yaaas! the server's running\"\n",
    "@CovidVaccineApp.route('/search', methods=['GET'])\n",
    "def search_query():\n",
    "    state = request.args.get(\"state\")\n",
    "    try:\n",
    "        conn = sqlite3.connect('covid_vaccine.db')\n",
    "        query = \"select sentiment, count(*) as count from covid_vaccine_result where sentiment is not null group by state, sentiment having state ='\" +state+ \"';\"\n",
    "        result = pd.read_sql(query, conn)\n",
    "#         print(result)\n",
    "        output = dict(zip(result['sentiment'], result['count']))\n",
    "#         print(output)\n",
    "    except:\n",
    "        return \"Failed!\"\n",
    "    return json.dumps(output, indent = 4) \n",
    "\n",
    "@CovidVaccineApp.route('/summarize', methods=['GET'])\n",
    "def summearize_text():\n",
    "    state = request.args.get(\"state\")\n",
    "    city = request.args.get(\"city\")\n",
    "    # Call Ronak's module to get the reviews (Pass city, state, neighborbood)\n",
    "    # Call your review sentiment and summarization\n",
    "    pass\n",
    "if __name__ == '__main__':\n",
    "    CovidVaccineApp.run()"
   ]
  },
  {
   "cell_type": "code",
   "execution_count": null,
   "metadata": {},
   "outputs": [],
   "source": []
  },
  {
   "cell_type": "code",
   "execution_count": null,
   "metadata": {},
   "outputs": [],
   "source": []
  }
 ],
 "metadata": {
  "kernelspec": {
   "display_name": "Python 3",
   "language": "python",
   "name": "python3"
  },
  "language_info": {
   "codemirror_mode": {
    "name": "ipython",
    "version": 3
   },
   "file_extension": ".py",
   "mimetype": "text/x-python",
   "name": "python",
   "nbconvert_exporter": "python",
   "pygments_lexer": "ipython3",
   "version": "3.6.9"
  }
 },
 "nbformat": 4,
 "nbformat_minor": 4
}
