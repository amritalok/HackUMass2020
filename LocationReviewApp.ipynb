{
 "cells": [
  {
   "cell_type": "code",
   "execution_count": null,
   "metadata": {},
   "outputs": [
    {
     "name": "stdout",
     "output_type": "stream",
     "text": [
      " * Serving Flask app \"__main__\" (lazy loading)\n",
      " * Environment: production\n",
      "   WARNING: This is a development server. Do not use it in a production deployment.\n",
      "   Use a production WSGI server instead.\n",
      " * Debug mode: off\n"
     ]
    },
    {
     "name": "stderr",
     "output_type": "stream",
     "text": [
      " * Running on http://127.0.0.1:5000/ (Press CTRL+C to quit)\n"
     ]
    }
   ],
   "source": [
    "#Implement flask\n",
    "import json\n",
    "from flask import Flask, request\n",
    "from flask_cors import CORS\n",
    "import sqlite3\n",
    "import pandas as pd\n",
    "from location_data.test import run_procedure\n",
    "\n",
    "CovidVaccineApp = Flask(__name__)\n",
    "cors = CORS(CovidVaccineApp, resources={r\"/api/*\": {\"origins\": \"*\"}})\n",
    "# CovidVaccineApp.debug = True\n",
    "@CovidVaccineApp.route('/')\n",
    "\n",
    "def status():\n",
    "    return \"Yaaas! the server's running\"\n",
    "@CovidVaccineApp.route('/api/search', methods=['GET'])\n",
    "def search_query():\n",
    "    state = request.args.get(\"state\")\n",
    "    try:\n",
    "        conn = sqlite3.connect('db/covid_vaccine.db')\n",
    "        query = \"select sentiment, count(*) as count from covid_vaccine_result where sentiment is not null group by state, sentiment having state ='\" +state+ \"';\"\n",
    "        result = pd.read_sql(query, conn)\n",
    "#         print(result)\n",
    "        output = dict(zip(result['sentiment'], result['count']))\n",
    "#         print(output)\n",
    "    except:\n",
    "        return \"Failed!\"\n",
    "    return json.dumps(output, indent = 4) \n",
    "\n",
    "@CovidVaccineApp.route('/api/summarize', methods=['GET'])\n",
    "def summearize_text():\n",
    "    place = request.args.get(\"place\")\n",
    "    state = request.args.get(\"state\")\n",
    "    city = request.args.get(\"city\")\n",
    "    \n",
    "    reviews = run_procedure(place, city, state)\n",
    "    \n",
    "    for review in reviews:\n",
    "        print(review)\n",
    "    \n",
    "    # Call Ronak's module to get the reviews (Pass city, state, neighborbood)\n",
    "    # Call your review sentiment and summarization\n",
    "    pass\n",
    "if __name__ == '__main__':\n",
    "    CovidVaccineApp.run()"
   ]
  },
  {
   "cell_type": "code",
   "execution_count": 5,
   "metadata": {},
   "outputs": [
    {
     "name": "stdout",
     "output_type": "stream",
     "text": [
      "Collecting python-dotenv\n",
      "  Using cached python_dotenv-0.15.0-py2.py3-none-any.whl (18 kB)\n",
      "Installing collected packages: python-dotenv\n",
      "Successfully installed python-dotenv-0.15.0\n",
      "\u001b[33mWARNING: You are using pip version 20.3.1; however, version 20.3.3 is available.\n",
      "You should consider upgrading via the '/usr/bin/python3 -m pip install --upgrade pip' command.\u001b[0m\n",
      "Note: you may need to restart the kernel to use updated packages.\n"
     ]
    }
   ],
   "source": [
    "pip install python-dotenv"
   ]
  },
  {
   "cell_type": "code",
   "execution_count": null,
   "metadata": {},
   "outputs": [],
   "source": []
  }
 ],
 "metadata": {
  "kernelspec": {
   "display_name": "Python 3",
   "language": "python",
   "name": "python3"
  },
  "language_info": {
   "codemirror_mode": {
    "name": "ipython",
    "version": 3
   },
   "file_extension": ".py",
   "mimetype": "text/x-python",
   "name": "python",
   "nbconvert_exporter": "python",
   "pygments_lexer": "ipython3",
   "version": "3.6.9"
  }
 },
 "nbformat": 4,
 "nbformat_minor": 4
}
